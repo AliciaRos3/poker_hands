{
 "cells": [
  {
   "cell_type": "markdown",
   "id": "8aa614dc-6e17-4dec-bc9c-47a073df6f72",
   "metadata": {},
   "source": [
    "### Initial Values\n",
    "First, we create variables and generate important information for our calculations."
   ]
  },
  {
   "cell_type": "code",
   "execution_count": null,
   "id": "50c6ed1d-1134-4d5e-a06c-e79b1a00c193",
   "metadata": {},
   "outputs": [],
   "source": [
    "import pandas as pd\n",
    "# define options for suits\n",
    "suits = ['H','D','S','C']\n",
    "# define options for values\n",
    "# Aces are notated as 1s, Jacks are notated as 11s, Queens are notated as 12s, Kings are notated as 13s\n",
    "values = list(range(1,14))\n",
    "# use list comprehensions to get a data frame of all possible cards\n",
    "# each suit repeated 13 times; list of values repeated 4 times\n",
    "cards_df = pd.DataFrame(data = {'suit':[y for z in [13*[x] for x in suits] for y in z],'value':values*4})\n",
    "print(cards_df.head(3)) # print first 3 rows\n",
    "print(cards_df.tail(3)) # print last 3 rows"
   ]
  },
  {
   "cell_type": "code",
   "execution_count": null,
   "id": "30e13e8f-2529-469f-88f8-7c58c10f43cc",
   "metadata": {},
   "outputs": [],
   "source": [
    "# create empty list to store all possible cards\n",
    "cards_list = []\n",
    "# for each row in the data frame, define the card as a list of [suit,value]\n",
    "# then append the card to the list\n",
    "for i in range(0,len(cards_df)):\n",
    "    card = [cards_df.iloc[i].suit,cards_df.iloc[i].value]\n",
    "    cards_list.append(card)\n",
    "print(cards_list) # show the resulting list"
   ]
  },
  {
   "cell_type": "code",
   "execution_count": null,
   "id": "fba247b2-0785-47c8-b2d4-1b0ecaca0304",
   "metadata": {},
   "outputs": [],
   "source": [
    "import itertools\n",
    "# make a list of all possible 5 card combinations\n",
    "hands_list = list(itertools.combinations(cards_list,5))\n",
    "print(hands_list[:3]) # display first 3\n",
    "print(hands_list[len(hands_list)-3:]) # display last 3"
   ]
  },
  {
   "cell_type": "markdown",
   "id": "795d4655-7f04-4fbc-b0b8-ddbdb441c97c",
   "metadata": {},
   "source": [
    "## Functions\n",
    "Next, we create a function to get the information we need from an inputted hand."
   ]
  },
  {
   "cell_type": "code",
   "execution_count": null,
   "id": "91d62b21-e316-4942-a4f7-9b2fcfb4bfa6",
   "metadata": {},
   "outputs": [],
   "source": [
    "# create a user-defined function (UDF) to convert a 5 card hand into the \"category\" of hand\n",
    "def hand_category(hand):\n",
    "    # get a list of the suits in the hand\n",
    "    hand_suits = [x[0] for x in hand]\n",
    "    # create a list of number of each suit in the hand [hearts,diamonds,spades,clubs]\n",
    "    suit_counts = [hand_suits.count(x) for x in suits]\n",
    "    # get a list of the values in the hand\n",
    "    hand_values = [x[1] for x in hand]\n",
    "    # sort the values numerically, ascending\n",
    "    hand_values.sort()\n",
    "    # create a list of the number of each value in the hand [1s,2s,3s,...,11s,12s,13s]\n",
    "    value_counts = [hand_values.count(x) for x in values]\n",
    "    # create a list of each increase in value [value1-value0,value2-value1,value3-value2,value4-value3]\n",
    "    # note that this makes a four-item list from the five-item list of values\n",
    "    value_inc = [hand_values[i]-hand_values[i-1] for i in range(1,5)]\n",
    "    # define the conditions for each type of hand, working from the best hand type down\n",
    "    if (sum([x==1 for x in value_inc])==4 or hand_values == [10,11,12,13,1]) and max(suit_counts) == 5:\n",
    "        category = \"straight-flush\"\n",
    "    elif max(value_counts) == 4:\n",
    "        category = \"four-of-a-kind\"\n",
    "    elif sum([x==3 for x in value_counts]) == 1 and sum([x==2 for x in value_counts]) == 1:\n",
    "        category = \"full-house\"\n",
    "    elif max(suit_counts) == 5:\n",
    "        category = \"flush\"\n",
    "    elif sum([x==1 for x in value_inc])==4 or hand_values == [10,11,12,13,1]:\n",
    "        category = \"straight\"\n",
    "    elif max(value_counts) == 3:\n",
    "        category = \"three-of-a-kind\"\n",
    "    elif sum([x==2 for x in value_counts]) == 2:\n",
    "        category = \"two-pair\"\n",
    "    elif max(value_counts) == 2:\n",
    "        category = \"pair\"\n",
    "    else:\n",
    "        category = \"high-card\"\n",
    "    return category\n",
    "    # the udf will return the category evaluated through the nested if-elif-else loop"
   ]
  },
  {
   "cell_type": "markdown",
   "id": "ec214e12-3cf3-4ae7-b1f0-e680d661e04d",
   "metadata": {},
   "source": [
    "## Calculate Probabilities"
   ]
  },
  {
   "cell_type": "code",
   "execution_count": null,
   "id": "4c0a4f72-7da3-44e4-98da-e24f52616fb0",
   "metadata": {},
   "outputs": [],
   "source": [
    "# time the codes\n",
    "from time import time\n",
    "t0=time()\n",
    "\n",
    "# create a data frame of each hand and the corresponding category\n",
    "# use list comprehension to run the hand_category udf on each hand\n",
    "hands_df = pd.DataFrame(data={'hand':hands_list,'category':[hand_category(h) for h in hands_list]})\n",
    "\n",
    "# print the elapsed time\n",
    "print(\"time to run:\",round(time()-t0,2),\"seconds\")\n",
    "# print the first 5 rows of the data frame\n",
    "hands_df.head()"
   ]
  },
  {
   "cell_type": "code",
   "execution_count": null,
   "id": "d1714687-593e-4270-819b-57d42ed23820",
   "metadata": {},
   "outputs": [],
   "source": [
    "# get the total number of possible hands\n",
    "total_hands = hands_df.count().iloc[0]\n",
    "print(\"total possible hands:\",total_hands)\n",
    "# get the total number of hands in each category\n",
    "category_counts = hands_df.category.value_counts().sort_values()\n",
    "# get the probabilities\n",
    "probs = category_counts/total_hands\n",
    "print(probs)\n",
    "# double check that probabilities add up to 1\n",
    "print(\"total:\",sum(category_counts/total_hands))"
   ]
  }
 ],
 "metadata": {
  "kernelspec": {
   "display_name": "Python 3 (ipykernel)",
   "language": "python",
   "name": "python3"
  },
  "language_info": {
   "codemirror_mode": {
    "name": "ipython",
    "version": 3
   },
   "file_extension": ".py",
   "mimetype": "text/x-python",
   "name": "python",
   "nbconvert_exporter": "python",
   "pygments_lexer": "ipython3",
   "version": "3.11.7"
  }
 },
 "nbformat": 4,
 "nbformat_minor": 5
}
