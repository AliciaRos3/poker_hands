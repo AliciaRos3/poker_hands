{
 "cells": [
  {
   "cell_type": "markdown",
   "id": "895b2652-668c-4f86-9479-3d2fb51d33fd",
   "metadata": {},
   "source": [
    "### Initial Values\n",
    "First, we create variables and generate important information for our calculations."
   ]
  },
  {
   "cell_type": "code",
   "execution_count": 1,
   "id": "324fc14b-e241-4183-8c94-d31f4db2eccf",
   "metadata": {},
   "outputs": [
    {
     "name": "stdout",
     "output_type": "stream",
     "text": [
      "  suit  value\n",
      "0    H      1\n",
      "1    H      2\n",
      "2    H      3\n",
      "   suit  value\n",
      "49    C     11\n",
      "50    C     12\n",
      "51    C     13\n"
     ]
    }
   ],
   "source": [
    "import pandas as pd\n",
    "# define options for suits\n",
    "suits = ['H','D','S','C']\n",
    "# define options for values\n",
    "# Aces are notated as 1s, Jacks are notated as 11s, Queens are notated as 12s, Kings are notated as 13s\n",
    "values = list(range(1,14))\n",
    "# use list comprehensions to get a data frame of all possible cards\n",
    "# each suit repeated 13 times; list of values repeated 4 times\n",
    "cards_df = pd.DataFrame(data = {'suit':[y for z in [13*[x] for x in suits] for y in z],'value':values*4})\n",
    "print(cards_df.head(3)) # print first 3 rows\n",
    "print(cards_df.tail(3)) # print last 3 rows"
   ]
  },
  {
   "cell_type": "code",
   "execution_count": 2,
   "id": "c4b78aca-a550-4fa9-8a53-0998db992107",
   "metadata": {},
   "outputs": [
    {
     "name": "stdout",
     "output_type": "stream",
     "text": [
      "[['H', 1], ['H', 2], ['H', 3], ['H', 4], ['H', 5], ['H', 6], ['H', 7], ['H', 8], ['H', 9], ['H', 10], ['H', 11], ['H', 12], ['H', 13], ['D', 1], ['D', 2], ['D', 3], ['D', 4], ['D', 5], ['D', 6], ['D', 7], ['D', 8], ['D', 9], ['D', 10], ['D', 11], ['D', 12], ['D', 13], ['S', 1], ['S', 2], ['S', 3], ['S', 4], ['S', 5], ['S', 6], ['S', 7], ['S', 8], ['S', 9], ['S', 10], ['S', 11], ['S', 12], ['S', 13], ['C', 1], ['C', 2], ['C', 3], ['C', 4], ['C', 5], ['C', 6], ['C', 7], ['C', 8], ['C', 9], ['C', 10], ['C', 11], ['C', 12], ['C', 13]]\n"
     ]
    }
   ],
   "source": [
    "# create empty list to store all possible cards\n",
    "cards_list = []\n",
    "# for each row in the data frame, define the card as a list of [suit,value]\n",
    "# then append the card to the list\n",
    "for i in range(0,len(cards_df)):\n",
    "    card = [cards_df.iloc[i].suit,cards_df.iloc[i].value]\n",
    "    cards_list.append(card)\n",
    "print(cards_list) # show the resulting list"
   ]
  },
  {
   "cell_type": "code",
   "execution_count": 3,
   "id": "4a7d2209-adf8-4389-8191-d50f792763ee",
   "metadata": {},
   "outputs": [
    {
     "name": "stdout",
     "output_type": "stream",
     "text": [
      "[(['H', 1], ['H', 2], ['H', 3], ['H', 4], ['H', 5]), (['H', 1], ['H', 2], ['H', 3], ['H', 4], ['H', 6]), (['H', 1], ['H', 2], ['H', 3], ['H', 4], ['H', 7])]\n",
      "[(['C', 8], ['C', 9], ['C', 11], ['C', 12], ['C', 13]), (['C', 8], ['C', 10], ['C', 11], ['C', 12], ['C', 13]), (['C', 9], ['C', 10], ['C', 11], ['C', 12], ['C', 13])]\n"
     ]
    }
   ],
   "source": [
    "import itertools\n",
    "# make a list of all possible 5 card combinations\n",
    "hands_list = list(itertools.combinations(cards_list,5))\n",
    "print(hands_list[:3]) # display first 3\n",
    "print(hands_list[len(hands_list)-3:]) # display last 3"
   ]
  },
  {
   "cell_type": "markdown",
   "id": "d036b25b-2e71-4e48-a0da-fa6ea9cfdff7",
   "metadata": {},
   "source": [
    "## Functions\n",
    "Next, we create functions that will take a given poker hand and generate the information we need."
   ]
  },
  {
   "cell_type": "code",
   "execution_count": 4,
   "id": "6f0e9be4-8306-46b9-9233-335ff8dc3c46",
   "metadata": {},
   "outputs": [],
   "source": [
    "# create a user-defined function (UDF) to convert a 5 card hand into the \"category\" of hand\n",
    "def hand_category(hand):\n",
    "    # get a list of the suits in the hand\n",
    "    hand_suits = [x[0] for x in hand]\n",
    "    # create a list of number of each suit in the hand [hearts,diamonds,spades,clubs]\n",
    "    suit_counts = [hand_suits.count(x) for x in suits]\n",
    "    # get a list of the values in the hand\n",
    "    hand_values = [x[1] for x in hand]\n",
    "    # sort the values numerically, ascending\n",
    "    hand_values.sort()\n",
    "    # create a list of the number of each value in the hand [1s,2s,3s,...,11s,12s,13s]\n",
    "    value_counts = [hand_values.count(x) for x in values]\n",
    "    # create a list of each increase in value [value1-value0,value2-value1,value3-value2,value4-value3]\n",
    "    # note that this makes a four-item list from the five-item list of values\n",
    "    value_inc = [hand_values[i]-hand_values[i-1] for i in range(1,5)]\n",
    "    # define the conditions for each type of hand, working from the best hand type down\n",
    "    if (sum([x==1 for x in value_inc])==4 or hand_values == [10,11,12,13,1]) and max(suit_counts) == 5:\n",
    "        category = \"straight-flush\"\n",
    "    elif max(value_counts) == 4:\n",
    "        category = \"four-of-a-kind\"\n",
    "    elif sum([x==3 for x in value_counts]) == 1 and sum([x==2 for x in value_counts]) == 1:\n",
    "        category = \"full-house\"\n",
    "    elif max(suit_counts) == 5:\n",
    "        category = \"flush\"\n",
    "    elif sum([x==1 for x in value_inc])==4 or hand_values == [10,11,12,13,1]:\n",
    "        category = \"straight\"\n",
    "    elif max(value_counts) == 3:\n",
    "        category = \"three-of-a-kind\"\n",
    "    elif sum([x==2 for x in value_counts]) == 2:\n",
    "        category = \"two-pair\"\n",
    "    elif max(value_counts) == 2:\n",
    "        category = \"pair\"\n",
    "    else:\n",
    "        category = \"high-card\"\n",
    "    return category\n",
    "    # the udf will return the category evaluated through the nested if-elif-else loop"
   ]
  },
  {
   "cell_type": "code",
   "execution_count": 5,
   "id": "7823d3bd-355f-4050-9095-6206306e78ba",
   "metadata": {},
   "outputs": [],
   "source": [
    "# rank the hands based on category\n",
    "def hand_rank(hand):\n",
    "    category = hand_category(hand)\n",
    "    if category == \"straight-flush\":\n",
    "        rank = 1\n",
    "    elif category == \"four-of-a-kind\":\n",
    "        rank = 2\n",
    "    elif category == \"full-house\":\n",
    "        rank = 3\n",
    "    elif category == \"flush\":\n",
    "        rank = 4\n",
    "    elif category == \"straight\":\n",
    "        rank = 5\n",
    "    elif category == \"three-of-a-kind\":\n",
    "        rank = 6\n",
    "    elif category == \"two-pair\":\n",
    "        rank = 7\n",
    "    elif category == \"pair\":\n",
    "        rank = 8\n",
    "    elif category == \"high-card\":\n",
    "        rank = 9\n",
    "    else:\n",
    "        rank = None\n",
    "    return rank"
   ]
  },
  {
   "cell_type": "code",
   "execution_count": 6,
   "id": "233bade4-e5e2-4a4a-a250-1fcc287d1a6a",
   "metadata": {},
   "outputs": [],
   "source": [
    "# create sub-ranks to distinguish which hands are better/worse within a category\n",
    "def hand_sub_rank(hand): \n",
    "    # get the overall rank of the hand, corresponding to its category (pair, flush, three-of-a-kind, etc.)\n",
    "    rank = hand_rank(hand)\n",
    "    # get a list of the suits in the hand\n",
    "    hand_suits = [x[0] for x in hand]\n",
    "    # create a list of number of each suit in the hand [hearts,diamonds,spades,clubs]\n",
    "    suit_counts = [hand_suits.count(x) for x in suits]\n",
    "    # get a list of the values in the hand\n",
    "    hand_values = [x[1] for x in hand]\n",
    "    # sort the values numerically, ascending\n",
    "    hand_values.sort()\n",
    "    # create a list of the number of each value in the hand [1s,2s,3s,...,11s,12s,13s]\n",
    "    value_counts = [hand_values.count(x) for x in values]\n",
    "    # create a reversed list [13s,12s,11s,...,3s,2s,1s]\n",
    "    rev_value_counts = list(reversed(value_counts))\n",
    "    \n",
    "    if rank == 9: # high card\n",
    "        if value_counts.index(1) == 0:\n",
    "            sub_rank = 1\n",
    "        else:\n",
    "            sub_rank = rev_value_counts.index(1) + 2\n",
    "    if rank == 8: # pair\n",
    "        if value_counts.index(2) == 0:\n",
    "            sub_rank = 1\n",
    "        else:\n",
    "            sub_rank = rev_value_counts.index(2) + 2\n",
    "    if rank == 7: # two-pair\n",
    "        if value_counts.index(2) == 0:\n",
    "            sub_rank1 = 1\n",
    "            sub_rank2 = rev_value_counts.index(2) + 1\n",
    "        else:\n",
    "            sub_rank1 = rev_value_counts.index(2) + 2\n",
    "            sub_rank2 = rev_value_counts[sub_rank1-1:].index(2) + 1\n",
    "        sub_rank = sub_rank1 + (sub_rank2/100)\n",
    "    if rank == 6: # three-of-a-kind\n",
    "        if value_counts.index(3) == 0:\n",
    "            sub_rank = 1\n",
    "        else:\n",
    "            sub_rank = rev_value_counts.index(3) + 2\n",
    "    if rank == 5: # straight\n",
    "        if value_counts.index(1) == 0 and rev_value_counts.index(1) == 0:\n",
    "            sub_rank = 1\n",
    "        else:\n",
    "            sub_rank = rev_value_counts.index(1) + 2\n",
    "    if rank == 4: # flush\n",
    "        if value_counts.index(1) == 0:\n",
    "            sub_rank = 1\n",
    "        else:\n",
    "            sub_rank = rev_value_counts.index(1) + 2\n",
    "    if rank == 3: # full house\n",
    "        if value_counts.index(3) == 0:\n",
    "            sub_rank1 = 1\n",
    "        else:\n",
    "            sub_rank1 = rev_value_counts.index(3) + 2\n",
    "        if value_counts.index(2) == 0:\n",
    "            sub_rank2 = 1\n",
    "        else:\n",
    "            sub_rank2 = rev_value_counts.index(2) + 2\n",
    "        sub_rank = sub_rank1 + (sub_rank2)/100\n",
    "    if rank == 2: # four-of-a-kind\n",
    "        if value_counts.index(4) == 0:\n",
    "            sub_rank = 1\n",
    "        else:\n",
    "            sub_rank = rev_value_counts.index(4) + 2\n",
    "    if rank == 1: # straight-flush\n",
    "        if value_counts.index(1) == 0 and rev_value_counts.index(1) == 0:\n",
    "            sub_rank = 1\n",
    "        else:\n",
    "            sub_rank = rev_value_counts.index(1) + 2\n",
    "            \n",
    "    return sub_rank"
   ]
  },
  {
   "cell_type": "code",
   "execution_count": 7,
   "id": "23cc4367-858b-4b44-8c56-f30bb78a4da2",
   "metadata": {},
   "outputs": [],
   "source": [
    "# combine hand_rank and hand_sub rank to give a single comprehensive number for ranking hands\n",
    "def hand_full_rank(hand):\n",
    "    hand_full_rank = hand_rank(hand) + (hand_sub_rank(hand)/100)\n",
    "    return hand_full_rank"
   ]
  },
  {
   "cell_type": "markdown",
   "id": "716bea3b-33ed-40b8-be34-ca7f7d5a84cd",
   "metadata": {},
   "source": [
    "## Simulate Probabilities\n",
    "We want to be able to determine a player's odds of winning with a given hand. To do this, we run a number of simulations where opponent hands are generated at random, then the game's result (win/tie/loss) is determined. The overall proportion of simulated wins over total trials gives us a point estimate for the probability that the player will win."
   ]
  },
  {
   "cell_type": "code",
   "execution_count": 8,
   "id": "38c348d1-8f3b-41c8-a22a-7a75d70ab54f",
   "metadata": {},
   "outputs": [],
   "source": [
    "import random\n",
    "# create a function to simulate odds for an inputted hand and a given number simulation trials, with a given number of opponents.\n",
    "def simulate_match(hand, opponents, trials):\n",
    "    win_count = 0\n",
    "    tie_count = 0\n",
    "    loss_count = 0\n",
    "    player_rank = hand_full_rank(hand)\n",
    "    for i in range(trials):\n",
    "        cards_remaining = cards_list.copy()\n",
    "        for card in hand:\n",
    "            cards_remaining.remove(card)\n",
    "        hands_remaining = list(itertools.combinations(cards_remaining,5))\n",
    "        opponent_ranks = []\n",
    "        for j in range(opponents):\n",
    "            opponent_hand = random.choice(hands_remaining)\n",
    "            for card in opponent_hand:\n",
    "                cards_remaining.remove(card)\n",
    "            hands_remaining = list(itertools.combinations(cards_remaining,5))\n",
    "            opponent_rank = hand_full_rank(opponent_hand)\n",
    "            opponent_ranks.append(opponent_rank)\n",
    "        best_opp = min(opponent_ranks)\n",
    "        if player_rank < best_opp:\n",
    "            win_count += 1\n",
    "        if player_rank == best_opp:\n",
    "            tie_count += 1\n",
    "        if player_rank > best_opp:\n",
    "            loss_count += 1\n",
    "    win_prob = win_count / trials\n",
    "    tie_prob = tie_count / trials\n",
    "    loss_prob = loss_count / trials\n",
    "    return win_prob, tie_prob, loss_prob"
   ]
  },
  {
   "cell_type": "markdown",
   "id": "31d1d8cc-2e15-4ee7-ac51-1e488b9b4256",
   "metadata": {},
   "source": [
    "The function is set up to take inputs."
   ]
  },
  {
   "cell_type": "code",
   "execution_count": 9,
   "id": "e17639f2-3593-4190-9893-0f26c6a05184",
   "metadata": {},
   "outputs": [
    {
     "name": "stdin",
     "output_type": "stream",
     "text": [
      "Input the suit of card 1 (H, D, S, or C) H\n",
      "Input the value of card 1 (type a number; 1 for Ace, 11 for Jack, 12 for Queen, 13 for King) 1\n",
      "Input the suit of card 2 (H, D, S, or C) S\n",
      "Input the value of card 2 (type a number; 1 for Ace, 11 for Jack, 12 for Queen, 13 for King) 11\n",
      "Input the suit of card 3 (H, D, S, or C) D\n",
      "Input the value of card 3 (type a number; 1 for Ace, 11 for Jack, 12 for Queen, 13 for King) 9\n",
      "Input the suit of card 4 (H, D, S, or C) S\n",
      "Input the value of card 4 (type a number; 1 for Ace, 11 for Jack, 12 for Queen, 13 for King) 9\n",
      "Input the suit of card 5 (H, D, S, or C) C\n",
      "Input the value of card 5 (type a number; 1 for Ace, 11 for Jack, 12 for Queen, 13 for King) 9\n",
      "How many trials would you like to run? 100\n",
      "How many opponents do you have? 3\n"
     ]
    },
    {
     "name": "stdout",
     "output_type": "stream",
     "text": [
      "With hand: [['H', 1], ['S', 11], ['D', 9], ['S', 9], ['C', 9]]\n",
      "Category: three-of-a-kind\n",
      "Number of opponents: 3\n",
      "Simulated trials: 100\n",
      "Win Probability: 0.96\n",
      "Tie Probability: 0.0\n",
      "Loss Probability: 0.04\n"
     ]
    }
   ],
   "source": [
    "s1 = input('Input the suit of card 1 (H, D, S, or C)')\n",
    "v1 = input('Input the value of card 1 (type a number; 1 for Ace, 11 for Jack, 12 for Queen, 13 for King)')\n",
    "c1 = [str(s1),int(v1)]\n",
    "\n",
    "s2 = input('Input the suit of card 2 (H, D, S, or C)')\n",
    "v2 = input('Input the value of card 2 (type a number; 1 for Ace, 11 for Jack, 12 for Queen, 13 for King)')\n",
    "c2 = [str(s2),int(v2)]\n",
    "\n",
    "s3 = input('Input the suit of card 3 (H, D, S, or C)')\n",
    "v3 = input('Input the value of card 3 (type a number; 1 for Ace, 11 for Jack, 12 for Queen, 13 for King)')\n",
    "c3 = [str(s3),int(v3)]\n",
    "\n",
    "s4 = input('Input the suit of card 4 (H, D, S, or C)')\n",
    "v4 = input('Input the value of card 4 (type a number; 1 for Ace, 11 for Jack, 12 for Queen, 13 for King)')\n",
    "c4 = [str(s4),int(v4)]\n",
    "\n",
    "s5 = input('Input the suit of card 5 (H, D, S, or C)')\n",
    "v5 = input('Input the value of card 5 (type a number; 1 for Ace, 11 for Jack, 12 for Queen, 13 for King)')\n",
    "c5 = [str(s5),int(v5)]\n",
    "\n",
    "trials = input('How many trials would you like to run?')\n",
    "trials = int(trials)\n",
    "\n",
    "opponents = input('How many opponents do you have?')\n",
    "opponents = int(opponents)\n",
    "\n",
    "input_hand = [c1,c2,c3,c4,c5]\n",
    "win, tie, loss = simulate_match(hand=input_hand, trials=trials, opponents=opponents)\n",
    "\n",
    "print(f'With hand: {input_hand}\\nCategory: {hand_category(input_hand)}\\nNumber of opponents: {opponents}\\nSimulated trials: {trials}')\n",
    "print(f'Win Probability: {win}\\nTie Probability: {tie}\\nLoss Probability: {loss}')"
   ]
  }
 ],
 "metadata": {
  "kernelspec": {
   "display_name": "Python 3 (ipykernel)",
   "language": "python",
   "name": "python3"
  },
  "language_info": {
   "codemirror_mode": {
    "name": "ipython",
    "version": 3
   },
   "file_extension": ".py",
   "mimetype": "text/x-python",
   "name": "python",
   "nbconvert_exporter": "python",
   "pygments_lexer": "ipython3",
   "version": "3.11.7"
  }
 },
 "nbformat": 4,
 "nbformat_minor": 5
}
