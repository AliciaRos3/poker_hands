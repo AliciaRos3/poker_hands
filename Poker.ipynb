{
 "cells": [
  {
   "cell_type": "code",
   "execution_count": 152,
   "id": "b767fb6d-4bc0-48ab-88ac-0c61598cf0ed",
   "metadata": {},
   "outputs": [
    {
     "name": "stdout",
     "output_type": "stream",
     "text": [
      "  suit  value\n",
      "0    H      1\n",
      "1    H      2\n",
      "2    H      3\n",
      "   suit  value\n",
      "49    C     11\n",
      "50    C     12\n",
      "51    C     13\n"
     ]
    }
   ],
   "source": [
    "import pandas as pd\n",
    "# define options for suits\n",
    "suits = ['H','D','S','C']\n",
    "# define options for values\n",
    "# Aces are notated as 1s, Jacks are notated as 11s, Queens are notated as 12s, Kings are notated as 13s\n",
    "values = list(range(1,14))\n",
    "# use list comprehensions to get a data frame of all possible cards\n",
    "# each suit repeated 13 times; list of values repeated 4 times\n",
    "cards_df = pd.DataFrame(data = {'suit':[y for z in [13*[x] for x in suits] for y in z],'value':values*4})\n",
    "print(cards_df.head(3)) # print first 3 rows\n",
    "print(cards_df.tail(3)) # print last 3 rows"
   ]
  },
  {
   "cell_type": "code",
   "execution_count": 153,
   "id": "dcfaf416-0dc1-4909-961b-091274cd2349",
   "metadata": {},
   "outputs": [
    {
     "name": "stdout",
     "output_type": "stream",
     "text": [
      "[['H', 1], ['H', 2], ['H', 3], ['H', 4], ['H', 5], ['H', 6], ['H', 7], ['H', 8], ['H', 9], ['H', 10], ['H', 11], ['H', 12], ['H', 13], ['D', 1], ['D', 2], ['D', 3], ['D', 4], ['D', 5], ['D', 6], ['D', 7], ['D', 8], ['D', 9], ['D', 10], ['D', 11], ['D', 12], ['D', 13], ['S', 1], ['S', 2], ['S', 3], ['S', 4], ['S', 5], ['S', 6], ['S', 7], ['S', 8], ['S', 9], ['S', 10], ['S', 11], ['S', 12], ['S', 13], ['C', 1], ['C', 2], ['C', 3], ['C', 4], ['C', 5], ['C', 6], ['C', 7], ['C', 8], ['C', 9], ['C', 10], ['C', 11], ['C', 12], ['C', 13]]\n"
     ]
    }
   ],
   "source": [
    "# create empty list to store all possible cards\n",
    "cards_list = []\n",
    "# for each row in the data frame, define the card as a list of [suit,value]\n",
    "# then append the card to the list\n",
    "for i in range(0,len(cards_df)):\n",
    "    card = [cards_df.iloc[i].suit,cards_df.iloc[i].value]\n",
    "    cards_list.append(card)\n",
    "print(cards_list) # show the resulting list"
   ]
  },
  {
   "cell_type": "code",
   "execution_count": 154,
   "id": "ae63ca52-2be3-439b-9056-d96511f7575f",
   "metadata": {},
   "outputs": [
    {
     "name": "stdout",
     "output_type": "stream",
     "text": [
      "[(['H', 1], ['H', 2], ['H', 3], ['H', 4], ['H', 5]), (['H', 1], ['H', 2], ['H', 3], ['H', 4], ['H', 6]), (['H', 1], ['H', 2], ['H', 3], ['H', 4], ['H', 7])]\n",
      "[(['C', 8], ['C', 9], ['C', 11], ['C', 12], ['C', 13]), (['C', 8], ['C', 10], ['C', 11], ['C', 12], ['C', 13]), (['C', 9], ['C', 10], ['C', 11], ['C', 12], ['C', 13])]\n"
     ]
    }
   ],
   "source": [
    "import itertools\n",
    "# make a list of all possible 5 card combinations\n",
    "hands_list = list(itertools.combinations(cards_list,5))\n",
    "print(hands_list[:3]) # display first 3\n",
    "print(hands_list[len(hands_list)-3:]) # display last 3"
   ]
  },
  {
   "cell_type": "code",
   "execution_count": 155,
   "id": "67710c82-2ea0-442c-a07f-820d75141322",
   "metadata": {},
   "outputs": [],
   "source": [
    "# create a user-defined function (UDF) to convert a 5 card hand into the \"category\" of hand\n",
    "def hand_category(hand):\n",
    "    # get a list of the suits in the hand\n",
    "    hand_suits = [x[0] for x in hand]\n",
    "    # create a list of number of each suit in the hand [hearts,diamonds,spades,clubs]\n",
    "    suit_counts = [hand_suits.count(x) for x in suits]\n",
    "    # get a list of the values in the hand\n",
    "    hand_values = [x[1] for x in hand]\n",
    "    # sort the values numerically, ascending\n",
    "    hand_values.sort()\n",
    "    # create a list of the number of each value in the hand [1s,2s,3s,...,11s,12s,13s]\n",
    "    value_counts = [hand_values.count(x) for x in values]\n",
    "    # create a list of each increase in value [value1-value0,value2-value1,value3-value2,value4-value3]\n",
    "    # note that this makes a four-item list from the five-item list of values\n",
    "    value_inc = [hand_values[i]-hand_values[i-1] for i in range(1,5)]\n",
    "    # define the conditions for each type of hand, working from the best hand type down\n",
    "    if (sum([x==1 for x in value_inc])==4 or hand_values == [10,11,12,13,1]) and max(suit_counts) == 5:\n",
    "        category = \"straight-flush\"\n",
    "    elif max(value_counts) == 4:\n",
    "        category = \"four-of-a-kind\"\n",
    "    elif sum([x==3 for x in value_counts]) == 1 and sum([x==2 for x in value_counts]) == 1:\n",
    "        category = \"full-house\"\n",
    "    elif max(suit_counts) == 5:\n",
    "        category = \"flush\"\n",
    "    elif sum([x==1 for x in value_inc])==4 or hand_values == [10,11,12,13,1]:\n",
    "        category = \"straight\"\n",
    "    elif max(value_counts) == 3:\n",
    "        category = \"three-of-a-kind\"\n",
    "    elif sum([x==2 for x in value_counts]) == 2:\n",
    "        category = \"two-pair\"\n",
    "    elif max(value_counts) == 2:\n",
    "        category = \"pair\"\n",
    "    else:\n",
    "        category = \"high-card\"\n",
    "    return category\n",
    "    # the udf will return the category evaluated through the nested if-elif-else loop"
   ]
  },
  {
   "cell_type": "code",
   "execution_count": 157,
   "id": "58e12414-2105-42be-a186-c76fe105ab5c",
   "metadata": {},
   "outputs": [
    {
     "name": "stdout",
     "output_type": "stream",
     "text": [
      "time to run: 38.97 seconds\n"
     ]
    },
    {
     "data": {
      "text/html": [
       "<div>\n",
       "<style scoped>\n",
       "    .dataframe tbody tr th:only-of-type {\n",
       "        vertical-align: middle;\n",
       "    }\n",
       "\n",
       "    .dataframe tbody tr th {\n",
       "        vertical-align: top;\n",
       "    }\n",
       "\n",
       "    .dataframe thead th {\n",
       "        text-align: right;\n",
       "    }\n",
       "</style>\n",
       "<table border=\"1\" class=\"dataframe\">\n",
       "  <thead>\n",
       "    <tr style=\"text-align: right;\">\n",
       "      <th></th>\n",
       "      <th>hand</th>\n",
       "      <th>category</th>\n",
       "    </tr>\n",
       "  </thead>\n",
       "  <tbody>\n",
       "    <tr>\n",
       "      <th>0</th>\n",
       "      <td>([H, 1], [H, 2], [H, 3], [H, 4], [H, 5])</td>\n",
       "      <td>straight-flush</td>\n",
       "    </tr>\n",
       "    <tr>\n",
       "      <th>1</th>\n",
       "      <td>([H, 1], [H, 2], [H, 3], [H, 4], [H, 6])</td>\n",
       "      <td>flush</td>\n",
       "    </tr>\n",
       "    <tr>\n",
       "      <th>2</th>\n",
       "      <td>([H, 1], [H, 2], [H, 3], [H, 4], [H, 7])</td>\n",
       "      <td>flush</td>\n",
       "    </tr>\n",
       "    <tr>\n",
       "      <th>3</th>\n",
       "      <td>([H, 1], [H, 2], [H, 3], [H, 4], [H, 8])</td>\n",
       "      <td>flush</td>\n",
       "    </tr>\n",
       "    <tr>\n",
       "      <th>4</th>\n",
       "      <td>([H, 1], [H, 2], [H, 3], [H, 4], [H, 9])</td>\n",
       "      <td>flush</td>\n",
       "    </tr>\n",
       "  </tbody>\n",
       "</table>\n",
       "</div>"
      ],
      "text/plain": [
       "                                       hand        category\n",
       "0  ([H, 1], [H, 2], [H, 3], [H, 4], [H, 5])  straight-flush\n",
       "1  ([H, 1], [H, 2], [H, 3], [H, 4], [H, 6])           flush\n",
       "2  ([H, 1], [H, 2], [H, 3], [H, 4], [H, 7])           flush\n",
       "3  ([H, 1], [H, 2], [H, 3], [H, 4], [H, 8])           flush\n",
       "4  ([H, 1], [H, 2], [H, 3], [H, 4], [H, 9])           flush"
      ]
     },
     "execution_count": 157,
     "metadata": {},
     "output_type": "execute_result"
    }
   ],
   "source": [
    "# time the codes\n",
    "from time import time\n",
    "t0=time()\n",
    "\n",
    "# create a data frame of each hand and the corresponding category\n",
    "# use list comprehension to run the hand_category udf on each hand\n",
    "hands_df = pd.DataFrame(data={'hand':hands_list,'category':[hand_category(h) for h in hands_list]})\n",
    "\n",
    "# print the elapsed time\n",
    "print(\"time to run:\",round(time()-t0,2),\"seconds\")\n",
    "# print the first 5 rows of the data frame\n",
    "hands_df.head()"
   ]
  },
  {
   "cell_type": "code",
   "execution_count": 159,
   "id": "327e492d-91f3-4e28-a48d-23051eec0f4c",
   "metadata": {},
   "outputs": [
    {
     "name": "stdout",
     "output_type": "stream",
     "text": [
      "total possible hands: 2598960\n",
      "category\n",
      "straight-flush     0.000014\n",
      "four-of-a-kind     0.000240\n",
      "full-house         0.001441\n",
      "flush              0.001967\n",
      "straight           0.003532\n",
      "three-of-a-kind    0.021128\n",
      "two-pair           0.047539\n",
      "pair               0.422569\n",
      "high-card          0.501570\n",
      "Name: count, dtype: float64\n",
      "total: 1.0\n"
     ]
    }
   ],
   "source": [
    "# get the total number of possible hands\n",
    "total_hands = hands_df.count().iloc[0]\n",
    "print(\"total possible hands:\",total_hands)\n",
    "# get the total number of hands in each category\n",
    "category_counts = hands_df.category.value_counts().sort_values()\n",
    "# get the probabilities\n",
    "probs = category_counts/total_hands\n",
    "print(probs)\n",
    "# double check that probabilities add up to 1\n",
    "print(\"total:\",sum(category_counts/total_hands))"
   ]
  }
 ],
 "metadata": {
  "kernelspec": {
   "display_name": "Python 3 (ipykernel)",
   "language": "python",
   "name": "python3"
  },
  "language_info": {
   "codemirror_mode": {
    "name": "ipython",
    "version": 3
   },
   "file_extension": ".py",
   "mimetype": "text/x-python",
   "name": "python",
   "nbconvert_exporter": "python",
   "pygments_lexer": "ipython3",
   "version": "3.11.5"
  }
 },
 "nbformat": 4,
 "nbformat_minor": 5
}
